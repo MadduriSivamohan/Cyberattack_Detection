{
 "cells": [
  {
   "cell_type": "code",
   "execution_count": 1,
   "id": "ff8b2a67",
   "metadata": {},
   "outputs": [],
   "source": [
    "import numpy as np\n",
    "import pandas as pd"
   ]
  },
  {
   "cell_type": "code",
   "execution_count": 2,
   "id": "c8244cab",
   "metadata": {
    "scrolled": true
   },
   "outputs": [
    {
     "name": "stdout",
     "output_type": "stream",
     "text": [
      "Requirement already satisfied: scikit-learn in c:\\users\\user\\miniconda3\\envs\\tf\\lib\\site-packages (1.3.2)Note: you may need to restart the kernel to use updated packages.\n"
     ]
    },
    {
     "name": "stderr",
     "output_type": "stream",
     "text": [
      "ERROR: Could not install packages due to an OSError: [WinError 5] Access is denied: 'c:\\\\users\\\\user\\\\miniconda3\\\\envs\\\\tf\\\\lib\\\\site-packages\\\\matplotlib\\\\backends\\\\_backend_agg.cp311-win_amd64.pyd'\n",
      "Consider using the `--user` option or check the permissions.\n",
      "\n"
     ]
    },
    {
     "name": "stdout",
     "output_type": "stream",
     "text": [
      "\n",
      "Requirement already satisfied: scipy in c:\\users\\user\\miniconda3\\envs\\tf\\lib\\site-packages (1.11.3)\n",
      "Requirement already satisfied: matplotlib in c:\\users\\user\\miniconda3\\envs\\tf\\lib\\site-packages (3.8.0)\n",
      "Collecting matplotlib\n",
      "  Obtaining dependency information for matplotlib from https://files.pythonhosted.org/packages/59/e2/6b155713e8da8274367b41315b66260f9d3c52d9f4b26336ddc3986ba612/matplotlib-3.8.1-cp311-cp311-win_amd64.whl.metadata\n",
      "  Downloading matplotlib-3.8.1-cp311-cp311-win_amd64.whl.metadata (5.9 kB)\n",
      "Requirement already satisfied: numpy<2.0,>=1.17.3 in c:\\users\\user\\miniconda3\\envs\\tf\\lib\\site-packages (from scikit-learn) (1.25.2)\n",
      "Requirement already satisfied: joblib>=1.1.1 in c:\\users\\user\\miniconda3\\envs\\tf\\lib\\site-packages (from scikit-learn) (1.3.2)\n",
      "Requirement already satisfied: threadpoolctl>=2.0.0 in c:\\users\\user\\miniconda3\\envs\\tf\\lib\\site-packages (from scikit-learn) (3.2.0)\n",
      "Requirement already satisfied: contourpy>=1.0.1 in c:\\users\\user\\miniconda3\\envs\\tf\\lib\\site-packages (from matplotlib) (1.1.0)\n",
      "Requirement already satisfied: cycler>=0.10 in c:\\users\\user\\miniconda3\\envs\\tf\\lib\\site-packages (from matplotlib) (0.11.0)\n",
      "Requirement already satisfied: fonttools>=4.22.0 in c:\\users\\user\\miniconda3\\envs\\tf\\lib\\site-packages (from matplotlib) (4.42.1)\n",
      "Requirement already satisfied: kiwisolver>=1.3.1 in c:\\users\\user\\miniconda3\\envs\\tf\\lib\\site-packages (from matplotlib) (1.4.5)\n",
      "Requirement already satisfied: packaging>=20.0 in c:\\users\\user\\miniconda3\\envs\\tf\\lib\\site-packages (from matplotlib) (23.0)\n",
      "Requirement already satisfied: pillow>=8 in c:\\users\\user\\miniconda3\\envs\\tf\\lib\\site-packages (from matplotlib) (10.0.0)\n",
      "Requirement already satisfied: pyparsing>=2.3.1 in c:\\users\\user\\miniconda3\\envs\\tf\\lib\\site-packages (from matplotlib) (3.1.1)\n",
      "Requirement already satisfied: python-dateutil>=2.7 in c:\\users\\user\\miniconda3\\envs\\tf\\lib\\site-packages (from matplotlib) (2.8.2)\n",
      "Requirement already satisfied: six>=1.5 in c:\\users\\user\\miniconda3\\envs\\tf\\lib\\site-packages (from python-dateutil>=2.7->matplotlib) (1.16.0)\n",
      "Downloading matplotlib-3.8.1-cp311-cp311-win_amd64.whl (7.6 MB)\n",
      "   ---------------------------------------- 0.0/7.6 MB ? eta -:--:--\n",
      "   ---------------------------------------- 0.0/7.6 MB 1.4 MB/s eta 0:00:06\n",
      "   ---------------------------------------- 0.1/7.6 MB 656.4 kB/s eta 0:00:12\n",
      "   ---------------------------------------- 0.1/7.6 MB 751.6 kB/s eta 0:00:11\n",
      "    --------------------------------------- 0.1/7.6 MB 774.0 kB/s eta 0:00:10\n",
      "    --------------------------------------- 0.1/7.6 MB 774.0 kB/s eta 0:00:10\n",
      "   - -------------------------------------- 0.3/7.6 MB 1.1 MB/s eta 0:00:07\n",
      "   -- ------------------------------------- 0.4/7.6 MB 1.3 MB/s eta 0:00:06\n",
      "   -- ------------------------------------- 0.4/7.6 MB 1.2 MB/s eta 0:00:06\n",
      "   --- ------------------------------------ 0.7/7.6 MB 1.8 MB/s eta 0:00:04\n",
      "   --- ------------------------------------ 0.7/7.6 MB 1.8 MB/s eta 0:00:04\n",
      "   ----- ---------------------------------- 1.0/7.6 MB 2.1 MB/s eta 0:00:04\n",
      "   ------- -------------------------------- 1.4/7.6 MB 2.6 MB/s eta 0:00:03\n",
      "   ------- -------------------------------- 1.5/7.6 MB 2.5 MB/s eta 0:00:03\n",
      "   -------- ------------------------------- 1.6/7.6 MB 2.5 MB/s eta 0:00:03\n",
      "   ---------- ----------------------------- 2.1/7.6 MB 3.0 MB/s eta 0:00:02\n",
      "   ------------ --------------------------- 2.4/7.6 MB 3.3 MB/s eta 0:00:02\n",
      "   -------------- ------------------------- 2.7/7.6 MB 3.5 MB/s eta 0:00:02\n",
      "   ---------------- ----------------------- 3.1/7.6 MB 3.8 MB/s eta 0:00:02\n",
      "   ------------------ --------------------- 3.4/7.6 MB 4.0 MB/s eta 0:00:02\n",
      "   ------------------ --------------------- 3.5/7.6 MB 3.9 MB/s eta 0:00:02\n",
      "   -------------------- ------------------- 3.9/7.6 MB 4.0 MB/s eta 0:00:01\n",
      "   -------------------- ------------------- 4.0/7.6 MB 3.9 MB/s eta 0:00:01\n",
      "   -------------------- ------------------- 4.0/7.6 MB 3.9 MB/s eta 0:00:01\n",
      "   -------------------------- ------------- 5.0/7.6 MB 4.6 MB/s eta 0:00:01\n",
      "   -------------------------- ------------- 5.1/7.6 MB 4.6 MB/s eta 0:00:01\n",
      "   ----------------------------- ---------- 5.6/7.6 MB 4.7 MB/s eta 0:00:01\n",
      "   ------------------------------ --------- 5.8/7.6 MB 4.7 MB/s eta 0:00:01\n",
      "   -------------------------------- ------- 6.2/7.6 MB 4.9 MB/s eta 0:00:01\n",
      "   ---------------------------------- ----- 6.6/7.6 MB 5.0 MB/s eta 0:00:01\n",
      "   -------------------------------------- - 7.3/7.6 MB 5.3 MB/s eta 0:00:01\n",
      "   ---------------------------------------  7.6/7.6 MB 5.4 MB/s eta 0:00:01\n",
      "   ---------------------------------------- 7.6/7.6 MB 5.3 MB/s eta 0:00:00\n",
      "Installing collected packages: matplotlib\n",
      "  Attempting uninstall: matplotlib\n",
      "    Found existing installation: matplotlib 3.8.0\n",
      "    Uninstalling matplotlib-3.8.0:\n"
     ]
    }
   ],
   "source": [
    "pip install -U scikit-learn scipy matplotlib"
   ]
  },
  {
   "cell_type": "code",
   "execution_count": 3,
   "id": "ad9949bb",
   "metadata": {},
   "outputs": [
    {
     "name": "stderr",
     "output_type": "stream",
     "text": [
      "C:\\Users\\User\\AppData\\Local\\Temp\\ipykernel_11292\\3717026788.py:1: DtypeWarning: Columns (80) have mixed types. Specify dtype option on import or set low_memory=False.\n",
      "  df1 = pd.read_csv('DrDoS_LDAP_new.csv')\n"
     ]
    }
   ],
   "source": [
    "df1 = pd.read_csv('DrDoS_LDAP_new.csv')"
   ]
  },
  {
   "cell_type": "code",
   "execution_count": 4,
   "id": "d2b2ba93",
   "metadata": {},
   "outputs": [
    {
     "data": {
      "text/plain": [
       "array([1, 0])"
      ]
     },
     "execution_count": 4,
     "metadata": {},
     "output_type": "execute_result"
    }
   ],
   "source": [
    "from sklearn import preprocessing\n",
    "label_encoder = preprocessing.LabelEncoder()\n",
    "df1[' Label']= label_encoder.fit_transform(df1[' Label'])\n",
    "df1[' Label'].unique()"
   ]
  },
  {
   "cell_type": "code",
   "execution_count": 5,
   "id": "acb5d605",
   "metadata": {},
   "outputs": [],
   "source": [
    "df1.drop('SimillarHTTP', axis=1, inplace=True)\n",
    "df1.drop(' Fwd Packet Length Max', axis=1, inplace=True)\n",
    "df1.drop(' Fwd Packet Length Min', axis=1, inplace=True)\n",
    "df1.drop('Bwd Packet Length Max', axis=1, inplace=True)\n",
    "df1.drop(' Bwd Packet Length Min', axis=1, inplace=True)\n",
    "df1.drop(' Flow IAT Max', axis=1, inplace=True)\n",
    "df1.drop(' Flow IAT Min', axis=1, inplace=True)\n",
    "df1.drop(' Fwd IAT Max', axis=1, inplace=True)\n",
    "df1.drop(' Fwd IAT Min', axis=1, inplace=True)\n",
    "df1.drop(' Bwd IAT Max', axis=1, inplace=True)\n",
    "df1.drop(' Bwd IAT Min', axis=1, inplace=True)\n",
    "df1.drop(' Idle Max', axis=1, inplace=True)\n",
    "df1.drop(' Idle Min', axis=1, inplace=True)\n",
    "df1.drop(' Active Max', axis=1, inplace=True)\n",
    "df1.drop(' Active Min', axis=1, inplace=True)"
   ]
  },
  {
   "cell_type": "code",
   "execution_count": 6,
   "id": "b941b478",
   "metadata": {},
   "outputs": [],
   "source": [
    "l = []\n",
    "for col in df1:\n",
    "    \n",
    "    try:\n",
    "        if sum(df1[col]) == 0:\n",
    "            l.append(col)\n",
    "    except:\n",
    "        print(col)"
   ]
  },
  {
   "cell_type": "code",
   "execution_count": 7,
   "id": "80383254",
   "metadata": {},
   "outputs": [],
   "source": [
    "df1.drop(l, axis=1, inplace=True)"
   ]
  },
  {
   "cell_type": "code",
   "execution_count": 8,
   "id": "6c58ec85",
   "metadata": {},
   "outputs": [],
   "source": [
    "from sklearn.preprocessing import StandardScaler"
   ]
  },
  {
   "cell_type": "code",
   "execution_count": 9,
   "id": "e1e6afda",
   "metadata": {},
   "outputs": [],
   "source": [
    "df1.replace([np.inf, -np.inf], np.nan, inplace=True)\n",
    "df1.dropna(inplace=True)"
   ]
  },
  {
   "cell_type": "code",
   "execution_count": 10,
   "id": "5c06133b",
   "metadata": {},
   "outputs": [],
   "source": [
    "X = df1.drop(columns = ' Label', axis=1)\n",
    "y = df1[' Label']"
   ]
  },
  {
   "cell_type": "code",
   "execution_count": 11,
   "id": "961cc2b0",
   "metadata": {},
   "outputs": [],
   "source": [
    "import pandas as pd\n",
    "import numpy as np\n",
    "from sklearn.utils import resample\n",
    "\n",
    "\n",
    "majority_class = df1[df1[' Label'] == 1]\n",
    "minority_class = df1[df1[' Label'] == 0]\n",
    "\n",
    "\n",
    "minority_upsampled = resample(minority_class, replace=True, n_samples=50000, random_state=42)\n",
    "\n",
    "\n",
    "majority_downsampled = resample(majority_class, replace=False, n_samples=50000, random_state=42)\n",
    "\n",
    "\n",
    "balanced_df = pd.concat([minority_upsampled, majority_downsampled])\n",
    "\n",
    "\n",
    "balanced_df = balanced_df.sample(frac=1, random_state=42)"
   ]
  },
  {
   "cell_type": "code",
   "execution_count": 12,
   "id": "81476c8a",
   "metadata": {},
   "outputs": [
    {
     "name": "stdout",
     "output_type": "stream",
     "text": [
      "50000 50000\n"
     ]
    }
   ],
   "source": [
    "no = balanced_df[balanced_df[' Label'] == 0]\n",
    "yes = balanced_df[balanced_df[' Label'] == 1]\n",
    "print(len(no), len(yes))"
   ]
  },
  {
   "cell_type": "code",
   "execution_count": 13,
   "id": "c52ecf96",
   "metadata": {},
   "outputs": [],
   "source": [
    "X = balanced_df.drop(columns = ' Label', axis=1)\n",
    "y = balanced_df[' Label']"
   ]
  },
  {
   "cell_type": "code",
   "execution_count": 15,
   "id": "678d420b",
   "metadata": {},
   "outputs": [],
   "source": [
    "import numpy as np\n",
    "import pandas as pd\n",
    "# import matplotlib.pyplot as plt\n",
    "# from sklearn.decomposition import PCA"
   ]
  },
  {
   "cell_type": "code",
   "execution_count": 16,
   "id": "2d1fb88d",
   "metadata": {},
   "outputs": [],
   "source": [
    "X = balanced_df.drop(columns = ' Label', axis=1)\n",
    "y = balanced_df[' Label']"
   ]
  },
  {
   "cell_type": "code",
   "execution_count": 17,
   "id": "0e20fb28",
   "metadata": {},
   "outputs": [
    {
     "name": "stdout",
     "output_type": "stream",
     "text": [
      "                        Feature  Importance\n",
      "27            Min Packet Length    0.174371\n",
      "29           Packet Length Mean    0.129051\n",
      "8        Fwd Packet Length Mean    0.107199\n",
      "60              Destination IP4    0.082179\n",
      "38          Average Packet Size    0.075119\n",
      "39         Avg Fwd Segment Size    0.063889\n",
      "55                   Source IP3    0.051721\n",
      "54                   Source IP2    0.048684\n",
      "12                 Flow Bytes/s    0.044524\n",
      "28            Max Packet Length    0.031631\n",
      "56                   Source IP4    0.023152\n",
      "1              Destination Port    0.022574\n",
      "43            Subflow Fwd Bytes    0.021540\n",
      "25                Fwd Packets/s    0.018272\n",
      "15                 Flow IAT Std    0.014200\n",
      "57              Destination IP1    0.013811\n",
      "3                 Flow Duration    0.012158\n",
      "6   Total Length of Fwd Packets    0.009500\n",
      "53                   Source IP1    0.008154\n",
      "52                      Inbound    0.008040\n",
      "13               Flow Packets/s    0.005985\n",
      "44          Subflow Bwd Packets    0.005615\n",
      "5        Total Backward Packets    0.005568\n",
      "19                Bwd IAT Total    0.005290\n",
      "2                      Protocol    0.004169\n",
      "46       Init_Win_bytes_forward    0.003007\n",
      "48             act_data_pkt_fwd    0.002656\n",
      "20                 Bwd IAT Mean    0.002646\n",
      "42          Subflow Fwd Packets    0.001303\n",
      "11        Bwd Packet Length Std    0.001273\n",
      "21                  Bwd IAT Std    0.000717\n",
      "31       Packet Length Variance    0.000704\n",
      "35               URG Flag Count    0.000209\n",
      "10       Bwd Packet Length Mean    0.000206\n",
      "30            Packet Length Std    0.000190\n"
     ]
    }
   ],
   "source": [
    "import pandas as pd\n",
    "from sklearn.ensemble import RandomForestClassifier\n",
    "import numpy as np\n",
    "\n",
    "\n",
    "clf = RandomForestClassifier(n_estimators=100, random_state=0)\n",
    "\n",
    "clf.fit(X, y)\n",
    "\n",
    "\n",
    "feature_importances = clf.feature_importances_\n",
    "\n",
    "\n",
    "feature_importance_df = pd.DataFrame({'Feature': X.columns, 'Importance': feature_importances})\n",
    "\n",
    "feature_importance_df = feature_importance_df.sort_values(by='Importance', ascending=False)\n",
    "\n",
    "# Print the top 35 features\n",
    "top_features = feature_importance_df.head(35)  # Change the number as needed\n",
    "print(top_features)\n"
   ]
  },
  {
   "cell_type": "code",
   "execution_count": 18,
   "id": "17ec5bd9",
   "metadata": {},
   "outputs": [
    {
     "data": {
      "text/plain": [
       "pandas.core.frame.DataFrame"
      ]
     },
     "execution_count": 18,
     "metadata": {},
     "output_type": "execute_result"
    }
   ],
   "source": [
    "type(top_features)"
   ]
  },
  {
   "cell_type": "code",
   "execution_count": 19,
   "id": "b668ae6f",
   "metadata": {
    "scrolled": true
   },
   "outputs": [
    {
     "data": {
      "text/plain": [
       "[' Min Packet Length',\n",
       " ' Packet Length Mean',\n",
       " ' Fwd Packet Length Mean',\n",
       " 'Destination IP4',\n",
       " ' Average Packet Size',\n",
       " ' Avg Fwd Segment Size',\n",
       " 'Source IP3',\n",
       " 'Source IP2',\n",
       " 'Flow Bytes/s',\n",
       " ' Max Packet Length',\n",
       " 'Source IP4',\n",
       " ' Destination Port',\n",
       " ' Subflow Fwd Bytes',\n",
       " 'Fwd Packets/s',\n",
       " ' Flow IAT Std',\n",
       " 'Destination IP1',\n",
       " ' Flow Duration',\n",
       " 'Total Length of Fwd Packets',\n",
       " 'Source IP1',\n",
       " ' Inbound',\n",
       " ' Flow Packets/s',\n",
       " ' Subflow Bwd Packets',\n",
       " ' Total Backward Packets',\n",
       " 'Bwd IAT Total',\n",
       " ' Protocol',\n",
       " 'Init_Win_bytes_forward',\n",
       " ' act_data_pkt_fwd',\n",
       " ' Bwd IAT Mean',\n",
       " 'Subflow Fwd Packets',\n",
       " ' Bwd Packet Length Std',\n",
       " ' Bwd IAT Std',\n",
       " ' Packet Length Variance',\n",
       " ' URG Flag Count',\n",
       " ' Bwd Packet Length Mean',\n",
       " ' Packet Length Std',\n",
       " ' Label']"
      ]
     },
     "execution_count": 19,
     "metadata": {},
     "output_type": "execute_result"
    }
   ],
   "source": [
    "# x = []\n",
    "# for i in len(top_features):\n",
    "#     x.append(top_features['Feature'])\n",
    "x = list(top_features['Feature'])\n",
    "x.append(' Label')\n",
    "x"
   ]
  },
  {
   "cell_type": "code",
   "execution_count": 20,
   "id": "c09d5154",
   "metadata": {},
   "outputs": [],
   "source": [
    "for i in balanced_df.columns:\n",
    "    if i not in x:\n",
    "        balanced_df.drop(i, axis=1, inplace=True)"
   ]
  },
  {
   "cell_type": "code",
   "execution_count": 21,
   "id": "666be25a",
   "metadata": {},
   "outputs": [
    {
     "data": {
      "text/html": [
       "<div>\n",
       "<style scoped>\n",
       "    .dataframe tbody tr th:only-of-type {\n",
       "        vertical-align: middle;\n",
       "    }\n",
       "\n",
       "    .dataframe tbody tr th {\n",
       "        vertical-align: top;\n",
       "    }\n",
       "\n",
       "    .dataframe thead th {\n",
       "        text-align: right;\n",
       "    }\n",
       "</style>\n",
       "<table border=\"1\" class=\"dataframe\">\n",
       "  <thead>\n",
       "    <tr style=\"text-align: right;\">\n",
       "      <th></th>\n",
       "      <th>Destination Port</th>\n",
       "      <th>Protocol</th>\n",
       "      <th>Flow Duration</th>\n",
       "      <th>Total Backward Packets</th>\n",
       "      <th>Total Length of Fwd Packets</th>\n",
       "      <th>Fwd Packet Length Mean</th>\n",
       "      <th>Bwd Packet Length Mean</th>\n",
       "      <th>Bwd Packet Length Std</th>\n",
       "      <th>Flow Bytes/s</th>\n",
       "      <th>Flow Packets/s</th>\n",
       "      <th>...</th>\n",
       "      <th>Init_Win_bytes_forward</th>\n",
       "      <th>act_data_pkt_fwd</th>\n",
       "      <th>Inbound</th>\n",
       "      <th>Label</th>\n",
       "      <th>Source IP1</th>\n",
       "      <th>Source IP2</th>\n",
       "      <th>Source IP3</th>\n",
       "      <th>Source IP4</th>\n",
       "      <th>Destination IP1</th>\n",
       "      <th>Destination IP4</th>\n",
       "    </tr>\n",
       "  </thead>\n",
       "  <tbody>\n",
       "    <tr>\n",
       "      <th>1828060</th>\n",
       "      <td>11765</td>\n",
       "      <td>17</td>\n",
       "      <td>1</td>\n",
       "      <td>0</td>\n",
       "      <td>2944.0</td>\n",
       "      <td>1472.0</td>\n",
       "      <td>0.0</td>\n",
       "      <td>0.0</td>\n",
       "      <td>2.944000e+09</td>\n",
       "      <td>2.000000e+06</td>\n",
       "      <td>...</td>\n",
       "      <td>-1</td>\n",
       "      <td>1</td>\n",
       "      <td>1</td>\n",
       "      <td>1</td>\n",
       "      <td>172</td>\n",
       "      <td>16</td>\n",
       "      <td>0</td>\n",
       "      <td>5</td>\n",
       "      <td>192</td>\n",
       "      <td>1</td>\n",
       "    </tr>\n",
       "    <tr>\n",
       "      <th>1440274</th>\n",
       "      <td>41507</td>\n",
       "      <td>17</td>\n",
       "      <td>2</td>\n",
       "      <td>0</td>\n",
       "      <td>2944.0</td>\n",
       "      <td>1472.0</td>\n",
       "      <td>0.0</td>\n",
       "      <td>0.0</td>\n",
       "      <td>1.472000e+09</td>\n",
       "      <td>1.000000e+06</td>\n",
       "      <td>...</td>\n",
       "      <td>-1</td>\n",
       "      <td>1</td>\n",
       "      <td>1</td>\n",
       "      <td>1</td>\n",
       "      <td>172</td>\n",
       "      <td>16</td>\n",
       "      <td>0</td>\n",
       "      <td>5</td>\n",
       "      <td>192</td>\n",
       "      <td>1</td>\n",
       "    </tr>\n",
       "    <tr>\n",
       "      <th>1744063</th>\n",
       "      <td>53</td>\n",
       "      <td>17</td>\n",
       "      <td>54280</td>\n",
       "      <td>2</td>\n",
       "      <td>76.0</td>\n",
       "      <td>38.0</td>\n",
       "      <td>94.0</td>\n",
       "      <td>0.0</td>\n",
       "      <td>4.863670e+03</td>\n",
       "      <td>7.369197e+01</td>\n",
       "      <td>...</td>\n",
       "      <td>-1</td>\n",
       "      <td>1</td>\n",
       "      <td>0</td>\n",
       "      <td>0</td>\n",
       "      <td>192</td>\n",
       "      <td>168</td>\n",
       "      <td>50</td>\n",
       "      <td>7</td>\n",
       "      <td>8</td>\n",
       "      <td>8</td>\n",
       "    </tr>\n",
       "    <tr>\n",
       "      <th>826984</th>\n",
       "      <td>49646</td>\n",
       "      <td>17</td>\n",
       "      <td>1</td>\n",
       "      <td>0</td>\n",
       "      <td>2928.0</td>\n",
       "      <td>1464.0</td>\n",
       "      <td>0.0</td>\n",
       "      <td>0.0</td>\n",
       "      <td>2.928000e+09</td>\n",
       "      <td>2.000000e+06</td>\n",
       "      <td>...</td>\n",
       "      <td>-1</td>\n",
       "      <td>1</td>\n",
       "      <td>1</td>\n",
       "      <td>1</td>\n",
       "      <td>172</td>\n",
       "      <td>16</td>\n",
       "      <td>0</td>\n",
       "      <td>5</td>\n",
       "      <td>192</td>\n",
       "      <td>1</td>\n",
       "    </tr>\n",
       "    <tr>\n",
       "      <th>1519380</th>\n",
       "      <td>42639</td>\n",
       "      <td>17</td>\n",
       "      <td>2</td>\n",
       "      <td>0</td>\n",
       "      <td>2944.0</td>\n",
       "      <td>1472.0</td>\n",
       "      <td>0.0</td>\n",
       "      <td>0.0</td>\n",
       "      <td>1.472000e+09</td>\n",
       "      <td>1.000000e+06</td>\n",
       "      <td>...</td>\n",
       "      <td>-1</td>\n",
       "      <td>1</td>\n",
       "      <td>1</td>\n",
       "      <td>1</td>\n",
       "      <td>172</td>\n",
       "      <td>16</td>\n",
       "      <td>0</td>\n",
       "      <td>5</td>\n",
       "      <td>192</td>\n",
       "      <td>1</td>\n",
       "    </tr>\n",
       "  </tbody>\n",
       "</table>\n",
       "<p>5 rows × 36 columns</p>\n",
       "</div>"
      ],
      "text/plain": [
       "          Destination Port   Protocol   Flow Duration  \\\n",
       "1828060              11765         17               1   \n",
       "1440274              41507         17               2   \n",
       "1744063                 53         17           54280   \n",
       "826984               49646         17               1   \n",
       "1519380              42639         17               2   \n",
       "\n",
       "          Total Backward Packets  Total Length of Fwd Packets  \\\n",
       "1828060                        0                       2944.0   \n",
       "1440274                        0                       2944.0   \n",
       "1744063                        2                         76.0   \n",
       "826984                         0                       2928.0   \n",
       "1519380                        0                       2944.0   \n",
       "\n",
       "          Fwd Packet Length Mean   Bwd Packet Length Mean  \\\n",
       "1828060                   1472.0                      0.0   \n",
       "1440274                   1472.0                      0.0   \n",
       "1744063                     38.0                     94.0   \n",
       "826984                    1464.0                      0.0   \n",
       "1519380                   1472.0                      0.0   \n",
       "\n",
       "          Bwd Packet Length Std  Flow Bytes/s   Flow Packets/s  ...  \\\n",
       "1828060                     0.0  2.944000e+09     2.000000e+06  ...   \n",
       "1440274                     0.0  1.472000e+09     1.000000e+06  ...   \n",
       "1744063                     0.0  4.863670e+03     7.369197e+01  ...   \n",
       "826984                      0.0  2.928000e+09     2.000000e+06  ...   \n",
       "1519380                     0.0  1.472000e+09     1.000000e+06  ...   \n",
       "\n",
       "         Init_Win_bytes_forward   act_data_pkt_fwd   Inbound   Label  \\\n",
       "1828060                      -1                  1         1       1   \n",
       "1440274                      -1                  1         1       1   \n",
       "1744063                      -1                  1         0       0   \n",
       "826984                       -1                  1         1       1   \n",
       "1519380                      -1                  1         1       1   \n",
       "\n",
       "         Source IP1  Source IP2  Source IP3  Source IP4  Destination IP1  \\\n",
       "1828060         172          16           0           5              192   \n",
       "1440274         172          16           0           5              192   \n",
       "1744063         192         168          50           7                8   \n",
       "826984          172          16           0           5              192   \n",
       "1519380         172          16           0           5              192   \n",
       "\n",
       "         Destination IP4  \n",
       "1828060                1  \n",
       "1440274                1  \n",
       "1744063                8  \n",
       "826984                 1  \n",
       "1519380                1  \n",
       "\n",
       "[5 rows x 36 columns]"
      ]
     },
     "execution_count": 21,
     "metadata": {},
     "output_type": "execute_result"
    }
   ],
   "source": [
    "balanced_df.head()"
   ]
  },
  {
   "cell_type": "code",
   "execution_count": 22,
   "id": "8b916823",
   "metadata": {},
   "outputs": [],
   "source": [
    "X = balanced_df.drop(columns = ' Label', axis=1)\n",
    "y = balanced_df[' Label']"
   ]
  },
  {
   "cell_type": "code",
   "execution_count": 23,
   "id": "896b8f73",
   "metadata": {},
   "outputs": [
    {
     "name": "stdout",
     "output_type": "stream",
     "text": [
      "[[-0.3707941   0.73963593 -0.18785405 ... -0.29830374  0.59803957\n",
      "  -0.45110201]\n",
      " [ 0.9297517   0.73963593 -0.18785264 ... -0.29830374  0.59803957\n",
      "  -0.45110201]\n",
      " [-0.88293156  0.73963593 -0.11129665 ... -0.26218332 -1.90847747\n",
      "  -0.32946204]\n",
      " ...\n",
      " [-0.28832387  0.73963593 -0.18785264 ... -0.29830374  0.59803957\n",
      "  -0.45110201]\n",
      " [ 1.71155717 -1.17214735 -0.18760581 ...  3.72912312  0.59803957\n",
      "  -0.32946204]\n",
      " [-0.8658778  -1.17214735 -0.18785405 ... -0.24412311  0.32559207\n",
      "   0.26136068]]\n"
     ]
    }
   ],
   "source": [
    "scaler = StandardScaler()\n",
    "scaler.fit(X)\n",
    "standardized_data = scaler.transform(X)\n",
    "print(standardized_data)"
   ]
  },
  {
   "cell_type": "code",
   "execution_count": 24,
   "id": "05104bd7",
   "metadata": {},
   "outputs": [],
   "source": [
    "from sklearn.model_selection import train_test_split\n",
    "from sklearn.linear_model import LogisticRegression"
   ]
  },
  {
   "cell_type": "code",
   "execution_count": 39,
   "id": "653296fa",
   "metadata": {},
   "outputs": [],
   "source": [
    "X_train, X_test, Y_train, Y_test = train_test_split(X, y, test_size=0.2, stratify=y, random_state=2)"
   ]
  },
  {
   "cell_type": "code",
   "execution_count": 34,
   "id": "550b925c",
   "metadata": {},
   "outputs": [],
   "source": [
    "model = LogisticRegression()"
   ]
  },
  {
   "cell_type": "code",
   "execution_count": 40,
   "id": "9254536d",
   "metadata": {
    "collapsed": true
   },
   "outputs": [
    {
     "name": "stdout",
     "output_type": "stream",
     "text": [
      "Accuracy on Training data :  0.999825\n",
      "Accuracy on Test data :  0.99975\n"
     ]
    },
    {
     "name": "stderr",
     "output_type": "stream",
     "text": [
      "C:\\Users\\User\\miniconda3\\envs\\tf\\Lib\\site-packages\\sklearn\\linear_model\\_logistic.py:460: ConvergenceWarning: lbfgs failed to converge (status=1):\n",
      "STOP: TOTAL NO. of ITERATIONS REACHED LIMIT.\n",
      "\n",
      "Increase the number of iterations (max_iter) or scale the data as shown in:\n",
      "    https://scikit-learn.org/stable/modules/preprocessing.html\n",
      "Please also refer to the documentation for alternative solver options:\n",
      "    https://scikit-learn.org/stable/modules/linear_model.html#logistic-regression\n",
      "  n_iter_i = _check_optimize_result(\n"
     ]
    }
   ],
   "source": [
    "model.fit(X_train, Y_train)\n",
    "from sklearn.metrics import accuracy_score\n",
    "X_train_prediction = model.predict(X_train)\n",
    "training_data_accuracy = accuracy_score(X_train_prediction, Y_train)\n",
    "print('Accuracy on Training data : ', training_data_accuracy)\n",
    "X_test_prediction = model.predict(X_test)\n",
    "test_data_accuracy = accuracy_score(X_test_prediction, Y_test)\n",
    "print('Accuracy on Test data : ', test_data_accuracy)"
   ]
  },
  {
   "cell_type": "code",
   "execution_count": 28,
   "id": "134dc3f9",
   "metadata": {},
   "outputs": [],
   "source": [
    "from sklearn.metrics import confusion_matrix, accuracy_score, precision_score, recall_score, f1_score"
   ]
  },
  {
   "cell_type": "code",
   "execution_count": 41,
   "id": "2ad404fb",
   "metadata": {},
   "outputs": [],
   "source": [
    "confusion = confusion_matrix(Y_test, X_test_prediction)"
   ]
  },
  {
   "cell_type": "code",
   "execution_count": 42,
   "id": "dab8d4f0",
   "metadata": {},
   "outputs": [
    {
     "data": {
      "text/plain": [
       "array([[10000,     0],\n",
       "       [    5,  9995]], dtype=int64)"
      ]
     },
     "execution_count": 42,
     "metadata": {},
     "output_type": "execute_result"
    }
   ],
   "source": [
    "confusion"
   ]
  },
  {
   "cell_type": "code",
   "execution_count": 31,
   "id": "d4b1834c",
   "metadata": {},
   "outputs": [
    {
     "name": "stdout",
     "output_type": "stream",
     "text": [
      "0.99944 0.9997199215780419\n"
     ]
    }
   ],
   "source": [
    "recall = recall_score(Y_test, X_test_prediction)\n",
    "f1 = f1_score(Y_test, X_test_prediction)\n",
    "print(recall, f1)"
   ]
  },
  {
   "cell_type": "code",
   "execution_count": 43,
   "id": "915d690b",
   "metadata": {},
   "outputs": [
    {
     "data": {
      "text/plain": [
       "10000"
      ]
     },
     "execution_count": 43,
     "metadata": {},
     "output_type": "execute_result"
    }
   ],
   "source": [
    "sum(Y_test)"
   ]
  },
  {
   "cell_type": "code",
   "execution_count": 44,
   "id": "f3546951",
   "metadata": {},
   "outputs": [
    {
     "data": {
      "text/plain": [
       "9995"
      ]
     },
     "execution_count": 44,
     "metadata": {},
     "output_type": "execute_result"
    }
   ],
   "source": [
    "sum(X_test_prediction)"
   ]
  }
 ],
 "metadata": {
  "kernelspec": {
   "display_name": "Python 3 (ipykernel)",
   "language": "python",
   "name": "python3"
  },
  "language_info": {
   "codemirror_mode": {
    "name": "ipython",
    "version": 3
   },
   "file_extension": ".py",
   "mimetype": "text/x-python",
   "name": "python",
   "nbconvert_exporter": "python",
   "pygments_lexer": "ipython3",
   "version": "3.11.4"
  }
 },
 "nbformat": 4,
 "nbformat_minor": 5
}
