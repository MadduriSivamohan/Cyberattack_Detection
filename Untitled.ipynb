{
 "cells": [
  {
   "cell_type": "code",
   "execution_count": 1,
   "id": "82185b10",
   "metadata": {},
   "outputs": [],
   "source": [
    "import numpy as np\n",
    "import pandas as pd"
   ]
  },
  {
   "cell_type": "code",
   "execution_count": null,
   "id": "3e4ede8d",
   "metadata": {},
   "outputs": [],
   "source": [
    "df1 = pd.read_csv('DrDoS_DNS_new.csv')\n",
    "df2 = pd.read_csv('DrDoS_LDAP_new.csv')\n",
    "df3 = pd.read_csv('DrDoS_MSSQL_new.csv')\n",
    "df4 = pd.read_csv('DrDoS_NetBIOS_new.csv')\n",
    "df5 = pd.read_csv('DrDoS_NTP_new.csv')\n",
    "df6 = pd.read_csv('DrDoS_LDAP_new.csv')\n",
    "df7 = pd.read_csv('DrDoS_LDAP_new.csv')\n",
    "df8 = pd.read_csv('DrDoS_LDAP_new.csv')"
   ]
  },
  {
   "cell_type": "code",
   "execution_count": null,
   "id": "899079e2",
   "metadata": {},
   "outputs": [],
   "source": []
  }
 ],
 "metadata": {
  "kernelspec": {
   "display_name": "Python 3 (ipykernel)",
   "language": "python",
   "name": "python3"
  },
  "language_info": {
   "codemirror_mode": {
    "name": "ipython",
    "version": 3
   },
   "file_extension": ".py",
   "mimetype": "text/x-python",
   "name": "python",
   "nbconvert_exporter": "python",
   "pygments_lexer": "ipython3",
   "version": "3.11.4"
  }
 },
 "nbformat": 4,
 "nbformat_minor": 5
}
